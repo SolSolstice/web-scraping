{
 "cells": [
  {
   "cell_type": "markdown",
   "id": "249bc455",
   "metadata": {},
   "source": [
    "Module 12 Challenge\n",
    "Deliverable 1: Scrape Titles and Preview Text from Mars News\n"
   ]
  },
  {
   "cell_type": "code",
   "execution_count": null,
   "id": "5e7e0a2a",
   "metadata": {},
   "outputs": [],
   "source": []
  }
 ],
 "metadata": {
  "kernelspec": {
   "display_name": "Python 3 (ipykernel)",
   "language": "python",
   "name": "python3"
  },
  "language_info": {
   "codemirror_mode": {
    "name": "ipython",
    "version": 3
   },
   "file_extension": ".py",
   "mimetype": "text/x-python",
   "name": "python",
   "nbconvert_exporter": "python",
   "pygments_lexer": "ipython3",
   "version": "3.9.13"
  }
 },
 "nbformat": 4,
 "nbformat_minor": 5
}
